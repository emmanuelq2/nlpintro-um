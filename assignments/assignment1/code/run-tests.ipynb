
 "cells": [
  {
   "cell_type": "code",
   "execution_count": null,
   "metadata": {
    "collapsed": false
   },
   "outputs": [],
   "source": [
    "import random\n",
    "from providedcode import dataset\n",
    "from providedcode.transitionparser import TransitionParser\n",
    "from providedcode.evaluate import DependencyEvaluator\n",
    "from featureextractor import FeatureExtractor\n",
    "from transition import Transition"
   ]
  },
  {
   "cell_type": "code",
   "execution_count": null,
   "metadata": {
    "collapsed": true
   },
   "outputs": [],
   "source": [
    "data = dataset.get_english_train_corpus().parsed_sents()\n",
    "random.seed(1234)\n",
    "subdata = random.sample(data, 200)"
   ]
  },
  {
   "cell_type": "code",
   "execution_count": null,
   "metadata": {
    "collapsed": false
   },
   "outputs": [],
   "source": [
    "subdata[0].to_conll(10).split('\\n')"
   ]
  },
  {
   "cell_type": "code",
   "execution_count": null,
   "metadata": {
    "collapsed": true
   },
   "outputs": [],
   "source": [
    "tp = TransitionParser(Transition, FeatureExtractor)"
   ]
  },
  {
   "cell_type": "code",
   "execution_count": null,
   "metadata": {
    "collapsed": false
   },
   "outputs": [],
   "source": [
    "tp.train(subdata)"
   ]
  },
  {
   "cell_type": "code",
   "execution_count": null,
   "metadata": {
    "collapsed": false
   },
   "outputs": [],
   "source": [
    "tp.save('english.model')"
   ]
  },
  {
   "cell_type": "code",
   "execution_count": null,
   "metadata": {
    "collapsed": true
   },
   "outputs": [],
   "source": [
    "testdata = dataset.get.parsed_sents()\n",
    "#tp = TransitionParser.load('badfeatures.model')\n",
    "parsed = tp.parse(testdata)"
   ]
  },
  {
   "cell_type": "code",
   "execution_count": null,
   "metadata": {
    "collapsed": true
   },
   "outputs": [],
   "source": [
    "with open('english.conll', 'w') as f:\n",
    "    for p in parsed:\n",
    "        f.write(p.to_conll(10).encode('utf-8'))\n",
    "        f.write('\\n')\n",
    "\n",
    "ev = DependencyEvaluator(testdata, parsed)\n",
    "print \"LAS: {} \\nUAS: {}\".format(*ev.eval())"
   ]
  }
 ],
 "metadata": {
  "kernelspec": {
   "display_name": "Python 2",
   "language": "python",
   "name": "python2"
  },
  "language_info": {
   "codemirror_mode": {
    "name": "ipython",
    "version": 2
   },
   "file_extension": ".py",
   "mimetype": "text/x-python",
   "name": "python",
   "nbconvert_exporter": "python",
   "pygments_lexer": "ipython2",
   "version": "2.7.10"
  }
 },
 "nbformat": 4,
 "nbformat_minor": 0
}
